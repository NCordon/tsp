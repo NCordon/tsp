{
 "cells": [
  {
   "cell_type": "code",
   "execution_count": 1,
   "metadata": {
    "collapsed": true
   },
   "outputs": [],
   "source": [
    "import re "
   ]
  },
  {
   "cell_type": "code",
   "execution_count": 2,
   "metadata": {
    "collapsed": true
   },
   "outputs": [],
   "source": [
    "class TSP:\n",
    "    def __read (file):\n",
    "        f = open(file, 'r')\n",
    "        match = '^[0-9]\\number.*'\n",
    "        points = []\n",
    "        \n",
    "        for line in f:\n",
    "            is_point = re.search(match, line)\n",
    "            \n",
    "            if is_point:\n",
    "                points += [float(i) for i in line.split()][1:]\n",
    "    \n",
    "        return(points)\n",
    "    \n",
    "    def __init__(self, file):\n",
    "        self.points = read(file)"
   ]
  },
  {
   "cell_type": "code",
   "execution_count": null,
   "metadata": {
    "collapsed": true
   },
   "outputs": [],
   "source": [
    "    def __read (file):\n",
    "        f = open(file, 'r')\n",
    "        match = '^[0-9]\\number.*'\n",
    "        points = []\n",
    "        \n",
    "        for line in f:\n",
    "            is_point = re.search(match, line)\n",
    "            \n",
    "            if is_point:\n",
    "                points += [float(i) for i in line.split()][1:]\n",
    "    \n",
    "        return(points)"
   ]
  }
 ],
 "metadata": {
  "kernelspec": {
   "display_name": "Python 2",
   "language": "python",
   "name": "python2"
  },
  "language_info": {
   "codemirror_mode": {
    "name": "ipython",
    "version": 2
   },
   "file_extension": ".py",
   "mimetype": "text/x-python",
   "name": "python",
   "nbconvert_exporter": "python",
   "pygments_lexer": "ipython2",
   "version": "2.7.9"
  }
 },
 "nbformat": 4,
 "nbformat_minor": 0
}
