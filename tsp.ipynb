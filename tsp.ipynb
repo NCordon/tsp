{
 "cells": [
  {
   "cell_type": "code",
   "execution_count": null,
   "metadata": {
    "collapsed": true
   },
   "outputs": [],
   "source": [
    "# Travelling Salesman Problem"
   ]
  },
  {
   "cell_type": "code",
   "execution_count": 1,
   "metadata": {
    "collapsed": true
   },
   "outputs": [],
   "source": [
    "from numpy import *\n",
    "from random import *\n",
    "from math import exp\n",
    "from copy import deepcopy\n",
    "import re"
   ]
  },
  {
   "cell_type": "markdown",
   "metadata": {},
   "source": [
    "Definimos una solución como una permutación con su coste"
   ]
  },
  {
   "cell_type": "code",
   "execution_count": 15,
   "metadata": {
    "collapsed": true
   },
   "outputs": [],
   "source": [
    "class Route:\n",
    "        \n",
    "        def __init__(self, permutation, dist):\n",
    "            self.permutation = deepcopy(permutation)\n",
    "            self.dist = dist\n",
    "            self.update_cost()\n",
    "\n",
    "        \"\"\"Calculates cuadratic cost\"\"\"\n",
    "        def update_cost(self):\n",
    "            shifted = append(self.permutation[1:], [self.permutation[0]])\n",
    "            pairs = zip(self.permutation, shifted)\n",
    "            self.cost = sum([self.dist[x,y] for (x,y) in pairs])\n",
    "        \n",
    "        def flip(self):\n",
    "            i = random(0, len(self.permutation)-1)\n",
    "            j = random(0, len(self.permutation)-1)\n",
    "            self.permutation[i], self.permutation[j] = self.permutation[j], self.permutation[i]"
   ]
  },
  {
   "cell_type": "markdown",
   "metadata": {},
   "source": [
    "Implementación de la clase que albergará los datos del problema"
   ]
  },
  {
   "cell_type": "code",
   "execution_count": 58,
   "metadata": {
    "collapsed": false
   },
   "outputs": [],
   "source": [
    "class TSP:   \n",
    "    \n",
    "    #def prueba(self):\n",
    "    #    return(Route(array(range(len(self.points))), self.dist))\n",
    "    \n",
    "    def __read (self, file):  \n",
    "        f = open('./berlin52.tsp', 'r')\n",
    "        match = '^[0-9].*'\n",
    "        points = []\n",
    "        \n",
    "        for line in f:\n",
    "            is_point = re.search(match, line)\n",
    "\n",
    "            if is_point:\n",
    "                x,y = map(float, line.split()[1:])\n",
    "                points.append((x,y))\n",
    "    \n",
    "        return(points)\n",
    "    \n",
    "    \n",
    "    def simulated_annealing(t_ini, max_iter, alpha):\n",
    "        \"\"\"Temperatura\"\"\"\n",
    "        t = t_ini\n",
    "        \n",
    "        \"\"\"Número de ciudades\"\"\"\n",
    "        n = len(points)\n",
    "        \n",
    "        \"\"\"Permutación\"\"\"\n",
    "        permutation = array(range(n))\n",
    "        permutation = shuffle(permutation)\n",
    "        solution = Route(permutation)\n",
    "        best_solution = Route(permutation)\n",
    "        \n",
    "        \"\"\"Variables que controlan las iteraciones\"\"\"\n",
    "        improvement = True\n",
    "        i=0\n",
    "        \n",
    "        while(improvement and i<max_iter):\n",
    "            candidate = solution.flip()\n",
    "            diff_cost = candidate.cost - solution.cost\n",
    "            \n",
    "            if (diff_cost < 0 or random() < exp(-diff_cost*1.0/t)):\n",
    "                solution = deepcopy(candidate)\n",
    "                \n",
    "                if (solution.cost < best_solution.cost):\n",
    "                    best_solution = deepcopy(solution)\n",
    "            \n",
    "            \"\"\"Esquema de enfriamiento\"\"\"\n",
    "            t = alpha*t\n",
    "        \n",
    "        return best_solution\n",
    "    \n",
    "    \n",
    "    \n",
    "    def __init__(self, file):\n",
    "        self.points = array(self.__read(file))\n",
    "        self.dist = array(\n",
    "            [\n",
    "                [dot(subtract(x,y),subtract(x,y)) for x in self.points] \n",
    "                for y in self.points\n",
    "            ])\n"
   ]
  },
  {
   "cell_type": "code",
   "execution_count": 59,
   "metadata": {
    "collapsed": false
   },
   "outputs": [],
   "source": [
    "files = ['berlin52.tsp', 'ch150.tsp', 'd198.tsp', 'eil101.tsp']\n",
    "berlin = TSP('berlin52.tsp')\n",
    "\n",
    "seed(12345678)"
   ]
  },
  {
   "cell_type": "code",
   "execution_count": 43,
   "metadata": {
    "collapsed": false
   },
   "outputs": [],
   "source": [
    "distancias = berlin.prueba().dist"
   ]
  }
 ],
 "metadata": {
  "celltoolbar": "Raw Cell Format",
  "kernelspec": {
   "display_name": "Python 2",
   "language": "python",
   "name": "python2"
  },
  "language_info": {
   "codemirror_mode": {
    "name": "ipython",
    "version": 2
   },
   "file_extension": ".py",
   "mimetype": "text/x-python",
   "name": "python",
   "nbconvert_exporter": "python",
   "pygments_lexer": "ipython2",
   "version": "2.7.9"
  }
 },
 "nbformat": 4,
 "nbformat_minor": 0
}
