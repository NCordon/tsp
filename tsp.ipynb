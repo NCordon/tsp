{
 "cells": [
  {
   "cell_type": "code",
   "execution_count": 1,
   "metadata": {
    "collapsed": true
   },
   "outputs": [],
   "source": [
    "import re "
   ]
  },
  {
   "cell_type": "code",
   "execution_count": 2,
   "metadata": {
    "collapsed": false
   },
   "outputs": [],
   "source": [
    "class TSP:\n",
    "    def __read (self, file):  \n",
    "        f = open('./berlin52.tsp', 'r')\n",
    "        match = '^[0-9].*'\n",
    "        points = []\n",
    "        \n",
    "        for line in f:\n",
    "            is_point = re.search(match, line)\n",
    "\n",
    "            if is_point:\n",
    "                x,y = map(float, line.split()[1:])\n",
    "                points.append((x,y))\n",
    "    \n",
    "        return(points)\n",
    "    \n",
    "    def __init__(self, file):\n",
    "        self.points = self.__read(file)"
   ]
  },
  {
   "cell_type": "code",
   "execution_count": 3,
   "metadata": {
    "collapsed": true
   },
   "outputs": [],
   "source": [
    "files = ['berlin52.tsp', 'ch150.tsp', 'd198.tsp', 'eil101.tsp']\n",
    "berlin = TSP('berlin52.tsp')"
   ]
  }
 ],
 "metadata": {
  "kernelspec": {
   "display_name": "Python 2",
   "language": "python",
   "name": "python2"
  },
  "language_info": {
   "codemirror_mode": {
    "name": "ipython",
    "version": 2
   },
   "file_extension": ".py",
   "mimetype": "text/x-python",
   "name": "python",
   "nbconvert_exporter": "python",
   "pygments_lexer": "ipython2",
   "version": "2.7.9"
  }
 },
 "nbformat": 4,
 "nbformat_minor": 0
}
