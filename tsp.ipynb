{
 "cells": [
  {
   "cell_type": "markdown",
   "metadata": {},
   "source": [
    "# Travelling Salesman Problem"
   ]
  },
  {
   "cell_type": "code",
   "execution_count": 37,
   "metadata": {
    "collapsed": true
   },
   "outputs": [],
   "source": [
    "from numpy import *\n",
    "from random import *\n",
    "import re"
   ]
  },
  {
   "cell_type": "markdown",
   "metadata": {},
   "source": [
    "Definimos una solución como una permutación con su coste"
   ]
  },
  {
   "cell_type": "code",
   "execution_count": 38,
   "metadata": {
    "collapsed": false
   },
   "outputs": [],
   "source": [
    "class TSP:\n",
    "    \n",
    "    class Solution:\n",
    "        \n",
    "        def __init__(self, permutation, points):\n",
    "            self.permutation = permutation\n",
    "            self.dist = array(\n",
    "                [\n",
    "                    [dot(subtract(x,y),subtract(x,y)) for x in points] \n",
    "                    for y in points\n",
    "                ])\n",
    "\n",
    "        \"\"\"Calculates cuadratic cost\"\"\"\n",
    "        def update_cost(self):\n",
    "            shifted = self.permutation[1:] + [self.permutation[0]]\n",
    "            pairs = zip(self.permutation, shifted)\n",
    "            self.cost = sum([dist[x,y] for (x,y) in pairs])\n",
    "    \n",
    "    \n",
    "    def __read (self, file):  \n",
    "        f = open('./berlin52.tsp', 'r')\n",
    "        match = '^[0-9].*'\n",
    "        points = []\n",
    "        \n",
    "        for line in f:\n",
    "            is_point = re.search(match, line)\n",
    "\n",
    "            if is_point:\n",
    "                x,y = map(float, line.split()[1:])\n",
    "                points.append((x,y))\n",
    "    \n",
    "        return(points)\n",
    "    \n",
    "    \n",
    "    def simulated_annealing(t_ini):\n",
    "        \"\"\"Temperatura\"\"\"\n",
    "        t = t_ini\n",
    "        \"\"\"Número de ciudades\"\"\"\n",
    "        n = len(points)\n",
    "        \"\"\"Permutación\"\"\"\n",
    "        route = range(n)\n",
    "        route = np.array(shuffle(route))\n",
    "        \n",
    "        \n",
    "    \n",
    "    def __init__(self, file):\n",
    "        self.points = np.array(self.__read(file))\n",
    "        \n",
    "    "
   ]
  },
  {
   "cell_type": "code",
   "execution_count": 32,
   "metadata": {
    "collapsed": true
   },
   "outputs": [],
   "source": [
    "files = ['berlin52.tsp', 'ch150.tsp', 'd198.tsp', 'eil101.tsp']\n",
    "berlin = TSP('berlin52.tsp')\n",
    "\n",
    "seed(12345678)"
   ]
  },
  {
   "cell_type": "code",
   "execution_count": 36,
   "metadata": {
    "collapsed": false
   },
   "outputs": [
    {
     "data": {
      "text/plain": [
       "array([[  565.,   575.],\n",
       "       [   25.,   185.],\n",
       "       [  345.,   750.],\n",
       "       [  945.,   685.],\n",
       "       [  845.,   655.],\n",
       "       [  880.,   660.],\n",
       "       [   25.,   230.],\n",
       "       [  525.,  1000.],\n",
       "       [  580.,  1175.],\n",
       "       [  650.,  1130.],\n",
       "       [ 1605.,   620.],\n",
       "       [ 1220.,   580.],\n",
       "       [ 1465.,   200.],\n",
       "       [ 1530.,     5.],\n",
       "       [  845.,   680.],\n",
       "       [  725.,   370.],\n",
       "       [  145.,   665.],\n",
       "       [  415.,   635.],\n",
       "       [  510.,   875.],\n",
       "       [  560.,   365.],\n",
       "       [  300.,   465.],\n",
       "       [  520.,   585.],\n",
       "       [  480.,   415.],\n",
       "       [  835.,   625.],\n",
       "       [  975.,   580.],\n",
       "       [ 1215.,   245.],\n",
       "       [ 1320.,   315.],\n",
       "       [ 1250.,   400.],\n",
       "       [  660.,   180.],\n",
       "       [  410.,   250.],\n",
       "       [  420.,   555.],\n",
       "       [  575.,   665.],\n",
       "       [ 1150.,  1160.],\n",
       "       [  700.,   580.],\n",
       "       [  685.,   595.],\n",
       "       [  685.,   610.],\n",
       "       [  770.,   610.],\n",
       "       [  795.,   645.],\n",
       "       [  720.,   635.],\n",
       "       [  760.,   650.],\n",
       "       [  475.,   960.],\n",
       "       [   95.,   260.],\n",
       "       [  875.,   920.],\n",
       "       [  700.,   500.],\n",
       "       [  555.,   815.],\n",
       "       [  830.,   485.],\n",
       "       [ 1170.,    65.],\n",
       "       [  830.,   610.],\n",
       "       [  605.,   625.],\n",
       "       [  595.,   360.],\n",
       "       [ 1340.,   725.],\n",
       "       [ 1740.,   245.]])"
      ]
     },
     "execution_count": 36,
     "metadata": {},
     "output_type": "execute_result"
    }
   ],
   "source": [
    "berlin.points"
   ]
  }
 ],
 "metadata": {
  "celltoolbar": "Raw Cell Format",
  "kernelspec": {
   "display_name": "Python 2",
   "language": "python",
   "name": "python2"
  },
  "language_info": {
   "codemirror_mode": {
    "name": "ipython",
    "version": 2
   },
   "file_extension": ".py",
   "mimetype": "text/x-python",
   "name": "python",
   "nbconvert_exporter": "python",
   "pygments_lexer": "ipython2",
   "version": "2.7.9"
  }
 },
 "nbformat": 4,
 "nbformat_minor": 0
}
